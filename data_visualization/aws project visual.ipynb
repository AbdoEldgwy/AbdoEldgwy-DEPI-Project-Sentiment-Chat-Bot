{
 "cells": [
  {
   "cell_type": "code",
   "execution_count": 1,
   "id": "dfeb177a-79ee-422b-bee7-698fdebb65fe",
   "metadata": {
    "tags": []
   },
   "outputs": [],
   "source": [
    "# downloading the data\n",
    "# !gdown --id 1zcDOotHJ3tvYE67ecR8fJrM1sXv-elLH\n"
   ]
  },
  {
   "cell_type": "code",
   "execution_count": 2,
   "id": "16b17648-b0dd-4a00-869f-5931e50e1968",
   "metadata": {
    "tags": []
   },
   "outputs": [],
   "source": [
    "import pandas as pd\n",
    "import numpy as np\n",
    "import matplotlib.pyplot as plt"
   ]
  },
  {
   "cell_type": "code",
   "execution_count": 3,
   "id": "b60ca90c-8718-4617-9ff1-3e60b87b813f",
   "metadata": {
    "tags": []
   },
   "outputs": [
    {
     "data": {
      "text/html": [
       "<div>\n",
       "<style scoped>\n",
       "    .dataframe tbody tr th:only-of-type {\n",
       "        vertical-align: middle;\n",
       "    }\n",
       "\n",
       "    .dataframe tbody tr th {\n",
       "        vertical-align: top;\n",
       "    }\n",
       "\n",
       "    .dataframe thead th {\n",
       "        text-align: right;\n",
       "    }\n",
       "</style>\n",
       "<table border=\"1\" class=\"dataframe\">\n",
       "  <thead>\n",
       "    <tr style=\"text-align: right;\">\n",
       "      <th></th>\n",
       "      <th>reviewText</th>\n",
       "      <th>Positive</th>\n",
       "    </tr>\n",
       "  </thead>\n",
       "  <tbody>\n",
       "    <tr>\n",
       "      <th>0</th>\n",
       "      <td>This is a one of the best apps acording to a b...</td>\n",
       "      <td>1</td>\n",
       "    </tr>\n",
       "    <tr>\n",
       "      <th>1</th>\n",
       "      <td>This is a pretty good version of the game for ...</td>\n",
       "      <td>1</td>\n",
       "    </tr>\n",
       "    <tr>\n",
       "      <th>2</th>\n",
       "      <td>this is a really cool game. there are a bunch ...</td>\n",
       "      <td>1</td>\n",
       "    </tr>\n",
       "    <tr>\n",
       "      <th>3</th>\n",
       "      <td>This is a silly game and can be frustrating, b...</td>\n",
       "      <td>1</td>\n",
       "    </tr>\n",
       "    <tr>\n",
       "      <th>4</th>\n",
       "      <td>This is a terrific game on any pad. Hrs of fun...</td>\n",
       "      <td>1</td>\n",
       "    </tr>\n",
       "    <tr>\n",
       "      <th>...</th>\n",
       "      <td>...</td>\n",
       "      <td>...</td>\n",
       "    </tr>\n",
       "    <tr>\n",
       "      <th>19995</th>\n",
       "      <td>this app is fricken stupid.it froze on the kin...</td>\n",
       "      <td>0</td>\n",
       "    </tr>\n",
       "    <tr>\n",
       "      <th>19996</th>\n",
       "      <td>Please add me!!!!! I need neighbors! Ginger101...</td>\n",
       "      <td>1</td>\n",
       "    </tr>\n",
       "    <tr>\n",
       "      <th>19997</th>\n",
       "      <td>love it!  this game. is awesome. wish it had m...</td>\n",
       "      <td>1</td>\n",
       "    </tr>\n",
       "    <tr>\n",
       "      <th>19998</th>\n",
       "      <td>I love love love this app on my side of fashio...</td>\n",
       "      <td>1</td>\n",
       "    </tr>\n",
       "    <tr>\n",
       "      <th>19999</th>\n",
       "      <td>This game is a rip off. Here is a list of thin...</td>\n",
       "      <td>0</td>\n",
       "    </tr>\n",
       "  </tbody>\n",
       "</table>\n",
       "<p>20000 rows × 2 columns</p>\n",
       "</div>"
      ],
      "text/plain": [
       "                                              reviewText  Positive\n",
       "0      This is a one of the best apps acording to a b...         1\n",
       "1      This is a pretty good version of the game for ...         1\n",
       "2      this is a really cool game. there are a bunch ...         1\n",
       "3      This is a silly game and can be frustrating, b...         1\n",
       "4      This is a terrific game on any pad. Hrs of fun...         1\n",
       "...                                                  ...       ...\n",
       "19995  this app is fricken stupid.it froze on the kin...         0\n",
       "19996  Please add me!!!!! I need neighbors! Ginger101...         1\n",
       "19997  love it!  this game. is awesome. wish it had m...         1\n",
       "19998  I love love love this app on my side of fashio...         1\n",
       "19999  This game is a rip off. Here is a list of thin...         0\n",
       "\n",
       "[20000 rows x 2 columns]"
      ]
     },
     "execution_count": 3,
     "metadata": {},
     "output_type": "execute_result"
    }
   ],
   "source": [
    "data = pd.read_csv(r\"C:\\Users\\Administrator\\Downloads\\amazon.csv\")\n",
    "data"
   ]
  },
  {
   "cell_type": "markdown",
   "id": "062f9b4d-66e3-4af8-b395-aba521973ae9",
   "metadata": {},
   "source": [
    "# exploratory data analysis"
   ]
  },
  {
   "cell_type": "code",
   "execution_count": 4,
   "id": "938deb04-c300-46a9-a78b-e03db7343877",
   "metadata": {
    "tags": []
   },
   "outputs": [
    {
     "name": "stdout",
     "output_type": "stream",
     "text": [
      "<class 'pandas.core.frame.DataFrame'>\n",
      "RangeIndex: 20000 entries, 0 to 19999\n",
      "Data columns (total 2 columns):\n",
      " #   Column      Non-Null Count  Dtype \n",
      "---  ------      --------------  ----- \n",
      " 0   reviewText  20000 non-null  object\n",
      " 1   Positive    20000 non-null  int64 \n",
      "dtypes: int64(1), object(1)\n",
      "memory usage: 312.6+ KB\n"
     ]
    }
   ],
   "source": [
    "data.info()"
   ]
  },
  {
   "cell_type": "code",
   "execution_count": 5,
   "id": "0ca39e39-6796-4a8b-a437-521ddeefa46e",
   "metadata": {
    "tags": []
   },
   "outputs": [
    {
     "data": {
      "text/html": [
       "<div>\n",
       "<style scoped>\n",
       "    .dataframe tbody tr th:only-of-type {\n",
       "        vertical-align: middle;\n",
       "    }\n",
       "\n",
       "    .dataframe tbody tr th {\n",
       "        vertical-align: top;\n",
       "    }\n",
       "\n",
       "    .dataframe thead th {\n",
       "        text-align: right;\n",
       "    }\n",
       "</style>\n",
       "<table border=\"1\" class=\"dataframe\">\n",
       "  <thead>\n",
       "    <tr style=\"text-align: right;\">\n",
       "      <th></th>\n",
       "      <th>Positive</th>\n",
       "    </tr>\n",
       "  </thead>\n",
       "  <tbody>\n",
       "    <tr>\n",
       "      <th>count</th>\n",
       "      <td>20000.000000</td>\n",
       "    </tr>\n",
       "    <tr>\n",
       "      <th>mean</th>\n",
       "      <td>0.761650</td>\n",
       "    </tr>\n",
       "    <tr>\n",
       "      <th>std</th>\n",
       "      <td>0.426085</td>\n",
       "    </tr>\n",
       "    <tr>\n",
       "      <th>min</th>\n",
       "      <td>0.000000</td>\n",
       "    </tr>\n",
       "    <tr>\n",
       "      <th>25%</th>\n",
       "      <td>1.000000</td>\n",
       "    </tr>\n",
       "    <tr>\n",
       "      <th>50%</th>\n",
       "      <td>1.000000</td>\n",
       "    </tr>\n",
       "    <tr>\n",
       "      <th>75%</th>\n",
       "      <td>1.000000</td>\n",
       "    </tr>\n",
       "    <tr>\n",
       "      <th>max</th>\n",
       "      <td>1.000000</td>\n",
       "    </tr>\n",
       "  </tbody>\n",
       "</table>\n",
       "</div>"
      ],
      "text/plain": [
       "           Positive\n",
       "count  20000.000000\n",
       "mean       0.761650\n",
       "std        0.426085\n",
       "min        0.000000\n",
       "25%        1.000000\n",
       "50%        1.000000\n",
       "75%        1.000000\n",
       "max        1.000000"
      ]
     },
     "execution_count": 5,
     "metadata": {},
     "output_type": "execute_result"
    }
   ],
   "source": [
    "data.describe()"
   ]
  },
  {
   "cell_type": "code",
   "execution_count": 6,
   "id": "4f287548-9853-4cf1-9fd8-2f80fd53cfe0",
   "metadata": {
    "tags": []
   },
   "outputs": [
    {
     "name": "stdout",
     "output_type": "stream",
     "text": [
      "This is a one of the best apps acording to a bunch of people and I agree it has bombs eggs pigs TNT king pigs and realustic stuff\n",
      "This is a pretty good version of the game for being free. There are LOTS of different levels to play. My kids enjoy it a lot too.\n",
      "this is a really cool game. there are a bunch of levels and you can find golden eggs. super fun.\n",
      "This is a silly game and can be frustrating, but lots of fun and definitely recommend just as a fun time.\n",
      "This is a terrific game on any pad. Hrs of fun.  My grandkids love it. Great entertainment when waiting in long lines\n",
      "This is a very entertaining game!  You don't have to be smart to play it.  I guess that's why I like it...it's easy and fun and that's what games are suppose to be.  Be warned: this game is highly addictive.\n",
      "this is awesome and you don't need wi ti to play trust me. it is really fun and addicting. there are like 100 levels it is even free don't waste your money on the expensive one I mean seriously. get the app\n",
      "this is awesome I bet no one even reads the reviews because they know this game is so good that they don't need to\n",
      "This is basicly the free version but with ads. That's actually awesome!!!! It's addicting and free at the same time really. I'd reccomend it.\n",
      "this is by far the best free app that is available anywhere. it has helped pass the time when nothing else would do. don't pass this one up. PS I hate this 20 word minimum!\n"
     ]
    }
   ],
   "source": [
    "# printing th efirst 10 values of the data\n",
    "for i in range(len(data)):\n",
    "    if i == 10:\n",
    "        break\n",
    "    else:\n",
    "        print(data.iloc[int(i),0])"
   ]
  },
  {
   "cell_type": "code",
   "execution_count": 7,
   "id": "28862962-74c8-42c9-8c74-14b1bdbcd635",
   "metadata": {
    "tags": []
   },
   "outputs": [
    {
     "data": {
      "text/plain": [
       "Positive\n",
       "1    15233\n",
       "0     4767\n",
       "Name: count, dtype: int64"
      ]
     },
     "execution_count": 7,
     "metadata": {},
     "output_type": "execute_result"
    }
   ],
   "source": [
    "data.loc[:,\"Positive\"].value_counts()"
   ]
  },
  {
   "cell_type": "markdown",
   "id": "b6bf4cee-056b-4be4-956f-9536be12257f",
   "metadata": {},
   "source": [
    "---"
   ]
  },
  {
   "cell_type": "markdown",
   "id": "6bc6e311-3278-4d73-a9d1-f006f317eb94",
   "metadata": {},
   "source": [
    "# Data visuallization"
   ]
  },
  {
   "cell_type": "markdown",
   "id": "954149f6-3376-4a7c-9af4-9594bfa9d26e",
   "metadata": {},
   "source": [
    "### sentiment analysis plot"
   ]
  },
  {
   "cell_type": "code",
   "execution_count": 8,
   "id": "1d913dc7-2b38-4dfe-97ba-b488d5000076",
   "metadata": {
    "tags": []
   },
   "outputs": [],
   "source": [
    "from bokeh.io import output_file, show\n",
    "from bokeh.plotting import figure\n",
    "from bokeh.transform import factor_cmap\n",
    "from bokeh.models import ColumnDataSource, FactorRange, HoverTool\n",
    "from bokeh.palettes import Spectral6\n",
    "import pandas as pd\n",
    "\n",
    "\n",
    "# Count occurrences of positive and negative sentiment\n",
    "sentiment_counts = data['Positive'].value_counts().sort_index()\n",
    "sentiment_labels = ['Negative', 'Positive']  # 0 -> Negative, 1 -> Positive\n",
    "\n",
    "# Prepare Bokeh data source\n",
    "source = ColumnDataSource(data=dict(sentiment=sentiment_labels, counts=sentiment_counts))\n",
    "\n",
    "# Output to an HTML file that will open in a new browser window\n",
    "output_file(\"sentiment_distribution.html\")\n",
    "\n",
    "# Create a figure with toolbar tools for dynamic interaction\n",
    "p = figure(x_range=sentiment_labels, outer_height=400, outer_width=600, title=\"Sentiment Distribution\",\n",
    "           toolbar_location=\"above\", tools=\"pan,wheel_zoom,box_zoom,reset,hover\", \n",
    "           tooltips=[(\"Sentiment\", \"@sentiment\"), (\"Count\", \"@counts\")],\n",
    "           x_axis_label=\"Sentiment\", y_axis_label=\"Frequency\")\n",
    "\n",
    "# Add vertical bars\n",
    "p.vbar(x='sentiment', top='counts', width=0.4, source=source, \n",
    "       fill_color=factor_cmap('sentiment', palette=['#e84d60', '#6ecb74'], factors=sentiment_labels))\n",
    "\n",
    "# Customize the plot for better appearance\n",
    "p.title.text_font_size = \"16pt\"\n",
    "p.xgrid.grid_line_color = None\n",
    "p.y_range.start = 0\n",
    "p.xaxis.major_label_text_font_size = \"12pt\"\n",
    "p.yaxis.major_label_text_font_size = \"12pt\"\n",
    "\n",
    "# Enable dynamic features like zoom, pan, hover\n",
    "hover = p.select(dict(type=HoverTool))\n",
    "hover.tooltips = [(\"Sentiment\", \"@sentiment\"), (\"Count\", \"@counts\")]\n",
    "\n",
    "# Show the plot in a new browser window\n",
    "show(p)\n"
   ]
  },
  {
   "cell_type": "code",
   "execution_count": 9,
   "id": "1968e62d-c6a8-42bb-b4e3-d1b54bfebd57",
   "metadata": {
    "tags": []
   },
   "outputs": [],
   "source": [
    "# !pip install wordcloud"
   ]
  },
  {
   "cell_type": "markdown",
   "id": "2a64c1de",
   "metadata": {},
   "source": [
    "# word cloud"
   ]
  },
  {
   "cell_type": "code",
   "execution_count": 10,
   "id": "2401093a-0bee-4fa9-9184-293323477e56",
   "metadata": {
    "tags": []
   },
   "outputs": [],
   "source": [
    "from wordcloud import WordCloud\n",
    "from bokeh.io import output_file, show\n",
    "from bokeh.plotting import figure\n",
    "from PIL import Image\n",
    "import pandas as pd\n",
    "import numpy as np\n",
    "\n",
    "#\n",
    "# Generate Word Cloud for Positive Sentiment\n",
    "positive_text = ' '.join(data[data['Positive'] == 1]['reviewText'])\n",
    "\n",
    "# Create WordCloud image\n",
    "wordcloud = WordCloud(width=800, height=400, background_color='white', colormap='Set3').generate(positive_text)\n",
    "\n",
    "# Save the wordcloud to a file\n",
    "wordcloud_image_path = 'positive_wordcloud.png'\n",
    "wordcloud.to_file(wordcloud_image_path)\n",
    "\n",
    "# Load the image using PIL and convert to RGBA format\n",
    "img = Image.open(wordcloud_image_path).convert(\"RGBA\")\n",
    "w, h = img.size\n",
    "\n",
    "# Convert image to NumPy array (RGBA)\n",
    "image_array = np.array(img)\n",
    "\n",
    "# Flip the image vertically because Bokeh uses a different coordinate system\n",
    "image_array = np.flipud(image_array)\n",
    "\n",
    "# Output to an HTML file\n",
    "output_file(\"positive_wordcloud.html\")\n",
    "\n",
    "# Create a figure with full-screen settings\n",
    "p = figure(x_range=(0, w), y_range=(0, h), width=w, height=h, \n",
    "           title=\"Positive Sentiment Word Cloud\", toolbar_location=None, tools=\"\")\n",
    "\n",
    "# Hide grid and axis\n",
    "p.grid.visible = False\n",
    "p.axis.visible = False\n",
    "\n",
    "# Convert RGBA values from 8-bit integers to 32-bit integers for Bokeh\n",
    "image_rgba = np.dstack((image_array[:, :, 0], image_array[:, :, 1], image_array[:, :, 2], image_array[:, :, 3])).astype(np.uint32)\n",
    "\n",
    "# Shift the bits to match Bokeh's RGBA format\n",
    "image_rgba = (image_rgba[:, :, 0] << 24) | (image_rgba[:, :, 1] << 16) | (image_rgba[:, :, 2] << 8) | image_rgba[:, :, 3]\n",
    "\n",
    "# Display the image\n",
    "p.image_rgba(image=[image_rgba], x=0, y=0, dw=w, dh=h)\n",
    "\n",
    "# Show the plot in a new browser window\n",
    "show(p)\n"
   ]
  },
  {
   "cell_type": "markdown",
   "id": "61731728",
   "metadata": {},
   "source": [
    "# text length"
   ]
  },
  {
   "cell_type": "code",
   "execution_count": 11,
   "id": "471b812f-7dde-42dd-a7a9-0e37c72f5d2f",
   "metadata": {},
   "outputs": [],
   "source": [
    "# third \n",
    "\n",
    "from bokeh.io import output_file, show\n",
    "from bokeh.plotting import figure\n",
    "from bokeh.layouts import gridplot\n",
    "\n",
    "\n",
    "# Calculate the length of each text\n",
    "data['text_length'] = data['reviewText'].apply(len)\n",
    "\n",
    "# Separate text lengths based on sentiment\n",
    "positive_lengths = data[data['Positive'] == 1]['text_length']\n",
    "negative_lengths = data[data['Positive'] == 0]['text_length']\n",
    "\n",
    "# Output to a new browser window\n",
    "output_file(\"text_length_distribution_separate_plots.html\")\n",
    "\n",
    "# Create histogram bins\n",
    "bins = np.linspace(0, max(data['text_length']), 20)\n",
    "\n",
    "# Positive sentiment plot\n",
    "positive_hist, edges = np.histogram(positive_lengths, bins=bins)\n",
    "p1 = figure(title=\"Positive Sentiment Text Length Distribution\", height=400, width=500,\n",
    "           x_axis_label=\"Text Length\", y_axis_label=\"Frequency\", toolbar_location=None, tools=\"\")\n",
    "p1.quad(top=positive_hist, bottom=0, left=edges[:-1], right=edges[1:], \n",
    "        fill_color=\"green\", alpha=0.6)\n",
    "p1.xgrid.grid_line_color = None\n",
    "p1.ygrid.grid_line_color = None\n",
    "\n",
    "# Negative sentiment plot\n",
    "negative_hist, edges = np.histogram(negative_lengths, bins=bins)\n",
    "p2 = figure(title=\"Negative Sentiment Text Length Distribution\", height=400, width=500,\n",
    "           x_axis_label=\"Text Length\", y_axis_label=\"Frequency\", toolbar_location=None, tools=\"\")\n",
    "p2.quad(top=negative_hist, bottom=0, left=edges[:-1], right=edges[1:], \n",
    "        fill_color=\"red\", alpha=0.6)\n",
    "p2.xgrid.grid_line_color = None\n",
    "p2.ygrid.grid_line_color = None\n",
    "\n",
    "# Create a grid layout for both plots side by side\n",
    "grid = gridplot([[p1, p2]])\n",
    "\n",
    "# Show the plots in a new browser window\n",
    "show(grid)\n"
   ]
  }
 ],
 "metadata": {
  "kernelspec": {
   "display_name": "Python 3 (ipykernel)",
   "language": "python",
   "name": "python3"
  },
  "language_info": {
   "codemirror_mode": {
    "name": "ipython",
    "version": 3
   },
   "file_extension": ".py",
   "mimetype": "text/x-python",
   "name": "python",
   "nbconvert_exporter": "python",
   "pygments_lexer": "ipython3",
   "version": "3.11.5"
  }
 },
 "nbformat": 4,
 "nbformat_minor": 5
}
